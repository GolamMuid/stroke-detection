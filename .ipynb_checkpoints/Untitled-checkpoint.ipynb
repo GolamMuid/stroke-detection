{
 "cells": [
  {
   "cell_type": "markdown",
   "id": "af73e041-4dfa-4934-bf53-37c8fbbd9e3d",
   "metadata": {},
   "source": [
    "# Stroke Prediction using Machine Learning Algorithm"
   ]
  },
  {
   "cell_type": "code",
   "execution_count": 31,
   "id": "1291cd54-6402-495f-be5d-2f7dab5f15bd",
   "metadata": {},
   "outputs": [],
   "source": [
    "# Importing necessary libraries\n",
    "\n",
    "import pandas as pd\n",
    "import numpy as np\n",
    "import seaborn as sns\n",
    "from imblearn.over_sampling import SMOTE\n",
    "from sklearn.model_selection import train_test_split\n",
    "from sklearn.preprocessing import StandardScaler\n",
    "from sklearn.neighbors import KNeighborsClassifier\n",
    "from sklearn.metrics import classification_report, confusion_matrix, accuracy_score, roc_auc_score, roc_curve, precision_score, recall_score, f1_score\n",
    "import matplotlib.pyplot as plt\n",
    "from sklearn.model_selection import GridSearchCV\n",
    "from sklearn.svm import SVC\n",
    "from collections import Counter\n",
    "from sklearn.ensemble import GradientBoostingClassifier\n",
    "import warnings\n",
    "warnings.filterwarnings(\"ignore\")"
   ]
  },
  {
   "cell_type": "code",
   "execution_count": 2,
   "id": "34cac3e5-d1d3-41d8-ae29-5ac22388cb32",
   "metadata": {},
   "outputs": [],
   "source": [
    "# Loading the dataset\n",
    "df = pd.read_csv('ModelFinalDataSet_normalised.csv')"
   ]
  },
  {
   "cell_type": "code",
   "execution_count": 3,
   "id": "42115195-8657-4a8f-8179-5d2ed0cc1632",
   "metadata": {},
   "outputs": [
    {
     "name": "stdout",
     "output_type": "stream",
     "text": [
      "   Unnamed: 0    gender       age  hypertension  heart_disease  ever_married  \\\n",
      "0           3  1.198071  1.734960      0.283054      -4.953880      0.778368   \n",
      "1           7  1.198071  1.468824     -3.532094      -4.953880      0.778368   \n",
      "2           8 -0.832918  1.247044      0.283054       0.201816     -1.284448   \n",
      "3           9 -0.832918  0.803483      0.283054       0.201816      0.778368   \n",
      "4          10 -0.832918  1.646248      0.283054       0.201816      0.778368   \n",
      "\n",
      "   work_type  Residence_type  avg_glucose_level       bmi    stroke  \n",
      "0   0.432417       -1.015944           0.637323  0.706801 -5.062062  \n",
      "1   0.432417       -1.015944          -0.943751 -0.064944 -5.062062  \n",
      "2   0.432417        0.984082           0.128537 -0.761028 -5.062062  \n",
      "3   0.432417       -1.015944          -0.676341  0.553924 -5.062062  \n",
      "4   0.432417        0.984082          -1.452095 -0.549176 -5.062062  \n"
     ]
    }
   ],
   "source": [
    "# checking the dataset\n",
    "print(df.head())"
   ]
  },
  {
   "cell_type": "code",
   "execution_count": 4,
   "id": "0bfa0a65-8973-4e22-80f1-37a14d255465",
   "metadata": {},
   "outputs": [
    {
     "name": "stdout",
     "output_type": "stream",
     "text": [
      "Dataset shape: (4394, 11)\n",
      "\n",
      "Missing values in each column:\n",
      "Unnamed: 0           0\n",
      "gender               0\n",
      "age                  0\n",
      "hypertension         0\n",
      "heart_disease        0\n",
      "ever_married         0\n",
      "work_type            0\n",
      "Residence_type       0\n",
      "avg_glucose_level    0\n",
      "bmi                  0\n",
      "stroke               0\n",
      "dtype: int64\n"
     ]
    }
   ],
   "source": [
    "# Checking the shape of the dataset\n",
    "print(f\"Dataset shape: {df.shape}\")\n",
    "\n",
    "# Checking for missing values\n",
    "print(\"\\nMissing values in each column:\")\n",
    "print(df.isnull().sum())"
   ]
  },
  {
   "cell_type": "code",
   "execution_count": 5,
   "id": "5fa6e8d8-213a-4fcd-876e-7b0ece83eff8",
   "metadata": {},
   "outputs": [
    {
     "name": "stdout",
     "output_type": "stream",
     "text": [
      "Class distribution before applying SMOTE:\n",
      "0    4229\n",
      "1     165\n",
      "Name: stroke, dtype: int64\n"
     ]
    }
   ],
   "source": [
    "# Replacing values in the stroke column\n",
    "df['stroke'] = np.where(df['stroke'] > -5, 0, 1)\n",
    "\n",
    "# Verifying the changes\n",
    "print(\"Class distribution before applying SMOTE:\")\n",
    "print(df['stroke'].value_counts())"
   ]
  },
  {
   "cell_type": "code",
   "execution_count": 6,
   "id": "c44e9041-d2b2-4b89-a0ff-a4d90ba43cd9",
   "metadata": {},
   "outputs": [
    {
     "data": {
      "text/html": [
       "<div>\n",
       "<style scoped>\n",
       "    .dataframe tbody tr th:only-of-type {\n",
       "        vertical-align: middle;\n",
       "    }\n",
       "\n",
       "    .dataframe tbody tr th {\n",
       "        vertical-align: top;\n",
       "    }\n",
       "\n",
       "    .dataframe thead th {\n",
       "        text-align: right;\n",
       "    }\n",
       "</style>\n",
       "<table border=\"1\" class=\"dataframe\">\n",
       "  <thead>\n",
       "    <tr style=\"text-align: right;\">\n",
       "      <th></th>\n",
       "      <th>gender</th>\n",
       "      <th>age</th>\n",
       "      <th>hypertension</th>\n",
       "      <th>heart_disease</th>\n",
       "      <th>ever_married</th>\n",
       "      <th>work_type</th>\n",
       "      <th>Residence_type</th>\n",
       "      <th>avg_glucose_level</th>\n",
       "      <th>bmi</th>\n",
       "      <th>stroke</th>\n",
       "    </tr>\n",
       "  </thead>\n",
       "  <tbody>\n",
       "    <tr>\n",
       "      <th>0</th>\n",
       "      <td>1.198071</td>\n",
       "      <td>1.734960</td>\n",
       "      <td>0.283054</td>\n",
       "      <td>-4.953880</td>\n",
       "      <td>0.778368</td>\n",
       "      <td>0.432417</td>\n",
       "      <td>-1.015944</td>\n",
       "      <td>0.637323</td>\n",
       "      <td>0.706801</td>\n",
       "      <td>1</td>\n",
       "    </tr>\n",
       "    <tr>\n",
       "      <th>1</th>\n",
       "      <td>1.198071</td>\n",
       "      <td>1.468824</td>\n",
       "      <td>-3.532094</td>\n",
       "      <td>-4.953880</td>\n",
       "      <td>0.778368</td>\n",
       "      <td>0.432417</td>\n",
       "      <td>-1.015944</td>\n",
       "      <td>-0.943751</td>\n",
       "      <td>-0.064944</td>\n",
       "      <td>1</td>\n",
       "    </tr>\n",
       "    <tr>\n",
       "      <th>2</th>\n",
       "      <td>-0.832918</td>\n",
       "      <td>1.247044</td>\n",
       "      <td>0.283054</td>\n",
       "      <td>0.201816</td>\n",
       "      <td>-1.284448</td>\n",
       "      <td>0.432417</td>\n",
       "      <td>0.984082</td>\n",
       "      <td>0.128537</td>\n",
       "      <td>-0.761028</td>\n",
       "      <td>1</td>\n",
       "    </tr>\n",
       "    <tr>\n",
       "      <th>3</th>\n",
       "      <td>-0.832918</td>\n",
       "      <td>0.803483</td>\n",
       "      <td>0.283054</td>\n",
       "      <td>0.201816</td>\n",
       "      <td>0.778368</td>\n",
       "      <td>0.432417</td>\n",
       "      <td>-1.015944</td>\n",
       "      <td>-0.676341</td>\n",
       "      <td>0.553924</td>\n",
       "      <td>1</td>\n",
       "    </tr>\n",
       "    <tr>\n",
       "      <th>4</th>\n",
       "      <td>-0.832918</td>\n",
       "      <td>1.646248</td>\n",
       "      <td>0.283054</td>\n",
       "      <td>0.201816</td>\n",
       "      <td>0.778368</td>\n",
       "      <td>0.432417</td>\n",
       "      <td>0.984082</td>\n",
       "      <td>-1.452095</td>\n",
       "      <td>-0.549176</td>\n",
       "      <td>1</td>\n",
       "    </tr>\n",
       "  </tbody>\n",
       "</table>\n",
       "</div>"
      ],
      "text/plain": [
       "     gender       age  hypertension  heart_disease  ever_married  work_type  \\\n",
       "0  1.198071  1.734960      0.283054      -4.953880      0.778368   0.432417   \n",
       "1  1.198071  1.468824     -3.532094      -4.953880      0.778368   0.432417   \n",
       "2 -0.832918  1.247044      0.283054       0.201816     -1.284448   0.432417   \n",
       "3 -0.832918  0.803483      0.283054       0.201816      0.778368   0.432417   \n",
       "4 -0.832918  1.646248      0.283054       0.201816      0.778368   0.432417   \n",
       "\n",
       "   Residence_type  avg_glucose_level       bmi  stroke  \n",
       "0       -1.015944           0.637323  0.706801       1  \n",
       "1       -1.015944          -0.943751 -0.064944       1  \n",
       "2        0.984082           0.128537 -0.761028       1  \n",
       "3       -1.015944          -0.676341  0.553924       1  \n",
       "4        0.984082          -1.452095 -0.549176       1  "
      ]
     },
     "execution_count": 6,
     "metadata": {},
     "output_type": "execute_result"
    }
   ],
   "source": [
    "# Dropping first column as id is not necessary\n",
    "df = df.iloc[:, 1:]\n",
    "\n",
    "df.head(5)"
   ]
  },
  {
   "cell_type": "code",
   "execution_count": 7,
   "id": "b600854e-1e84-49bf-acf6-d06a21fb8d16",
   "metadata": {},
   "outputs": [],
   "source": [
    "# Separating features and target\n",
    "X = df.drop('stroke', axis=1)\n",
    "y = df['stroke']"
   ]
  },
  {
   "cell_type": "code",
   "execution_count": 8,
   "id": "2a76bfb1-9733-4194-9dee-b1ed1a8f982d",
   "metadata": {},
   "outputs": [
    {
     "name": "stdout",
     "output_type": "stream",
     "text": [
      "\n",
      "Training set class distribution before SMOTE:\n",
      "0    2960\n",
      "1     115\n",
      "Name: stroke, dtype: int64\n"
     ]
    }
   ],
   "source": [
    "# Splitting into train and test sets\n",
    "X_train, X_test, y_train, y_test = train_test_split(\n",
    "    X, y, \n",
    "    test_size=0.3, \n",
    "    random_state=42,\n",
    "    stratify=y\n",
    ")\n",
    "\n",
    "print(\"\\nTraining set class distribution before SMOTE:\")\n",
    "print(y_train.value_counts())"
   ]
  },
  {
   "cell_type": "code",
   "execution_count": 9,
   "id": "0c5c90f8-0d0e-4dd6-b986-954d4e655c3a",
   "metadata": {},
   "outputs": [
    {
     "name": "stdout",
     "output_type": "stream",
     "text": [
      "\n",
      "Training set class distribution after SMOTE:\n",
      "1    2960\n",
      "0    2960\n",
      "Name: stroke, dtype: int64\n"
     ]
    }
   ],
   "source": [
    "# Applying SMOTE ONLY to the training data\n",
    "smote = SMOTE(random_state=42)\n",
    "X_train_resmpled, y_train_resampled = smote.fit_resample(X_train, y_train)\n",
    "\n",
    "print(\"\\nTraining set class distribution after SMOTE:\")\n",
    "print(pd.Series(y_train_resampled).value_counts())"
   ]
  },
  {
   "cell_type": "code",
   "execution_count": 10,
   "id": "b347231c-b227-4cb8-8eaf-ca87d8a5a0bd",
   "metadata": {},
   "outputs": [],
   "source": [
    "# Feature scaling\n",
    "scaler = StandardScaler()\n",
    "X_train_scaled = scaler.fit_transform(X_train_resmpled)\n",
    "X_test_scaled = scaler.transform(X_test)"
   ]
  },
  {
   "cell_type": "code",
   "execution_count": 11,
   "id": "93631cb5-7537-4aa9-82f9-d2142ab59ac8",
   "metadata": {},
   "outputs": [],
   "source": [
    "# function for model evaluation\n",
    "def evaluate_model(y_test, y_pred, model_name):\n",
    "    print(f\"\\n{model_name} Performance:\")\n",
    "    print(f\"Accuracy: {accuracy_score(y_test, y_pred):.4f}\")\n",
    "    print(f\"Precision: {precision_score(y_test, y_pred):.4f}\")\n",
    "    print(f\"Recall: {recall_score(y_test, y_pred):.4f}\")\n",
    "    print(f\"F1-score: {f1_score(y_test, y_pred):.4f}\")\n",
    "    print(f\"AUC-ROC: {roc_auc_score(y_test, y_pred):.4f}\")"
   ]
  },
  {
   "cell_type": "markdown",
   "id": "30beb046-6a2e-4fc1-99c2-d4ff23673b34",
   "metadata": {},
   "source": [
    "### Applying KNN Algorithm"
   ]
  },
  {
   "cell_type": "code",
   "execution_count": 12,
   "id": "f4b7aa8d-5feb-4449-8613-b2cb1c2d7eff",
   "metadata": {},
   "outputs": [],
   "source": [
    "# Basic KNN model\n",
    "knn_model = KNeighborsClassifier()\n",
    "knn_model.fit(X_train_scaled, y_train_resampled)\n",
    "y_pred = knn_model.predict(X_test_scaled)"
   ]
  },
  {
   "cell_type": "code",
   "execution_count": 13,
   "id": "08e65a83-cf31-48c1-9735-8ea48f989d1e",
   "metadata": {},
   "outputs": [
    {
     "name": "stdout",
     "output_type": "stream",
     "text": [
      "\n",
      "K-Nearest Neighbors (KNN) Performance:\n",
      "Accuracy: 0.8446\n",
      "Precision: 0.0899\n",
      "Recall: 0.3400\n",
      "F1-score: 0.1423\n",
      "AUC-ROC: 0.6022\n"
     ]
    }
   ],
   "source": [
    "# Model Evaluation\n",
    "evaluate_model(y_test, y_pred, \"K-Nearest Neighbors (KNN)\")"
   ]
  },
  {
   "cell_type": "code",
   "execution_count": 14,
   "id": "630c2a98-1dcf-4bdd-ab1c-cfc0dd5243a5",
   "metadata": {},
   "outputs": [
    {
     "data": {
      "image/png": "[encoded data removed]",
      "text/plain": [
       "<Figure size 576x432 with 1 Axes>"
      ]
     },
     "metadata": {
      "needs_background": "light"
     },
     "output_type": "display_data"
    }
   ],
   "source": [
    "# Confusion matrix of KNN\n",
    "labels = [0, 1]\n",
    "cm = confusion_matrix(y_test, y_pred, labels=labels)\n",
    "\n",
    "# Plot the heatmap\n",
    "plt.figure(figsize=(8, 6))\n",
    "sns.heatmap(cm, annot=True, fmt='d', cmap='Blues', cbar=False, xticklabels=labels, \n",
    "            yticklabels=labels, square=True, vmin=0, vmax=np.max(cm))  \n",
    "plt.title('Confusion Matrix for K-Nearest Neighbors (KNN)')\n",
    "plt.ylabel('Actual Label')\n",
    "plt.xlabel('Predicted Label')\n",
    "plt.show()"
   ]
  },
  {
   "cell_type": "markdown",
   "id": "6cba7a10",
   "metadata": {},
   "source": [
    "### Hyperparameter Tuning in KNN"
   ]
  },
  {
   "cell_type": "code",
   "execution_count": 15,
   "id": "12501c03",
   "metadata": {},
   "outputs": [
    {
     "name": "stdout",
     "output_type": "stream",
     "text": [
      "Best Parameters: {'metric': 'manhattan', 'n_neighbors': 1, 'weights': 'uniform'}\n"
     ]
    }
   ],
   "source": [
    "# defining parameter grid for KNN\n",
    "\n",
    "param_grid  = {\n",
    "    'n_neighbors': range(1, 31),\n",
    "    'weights': ['uniform', 'distance'],\n",
    "    'metric': ['euclidean', 'manhattan', 'minkowski']\n",
    "}\n",
    "\n",
    "# Applying RandomizedSearchCV\n",
    "grid_search = GridSearchCV(knn_model, param_grid, cv=5, scoring='accuracy', n_jobs=-1)\n",
    "grid_search.fit(X_train_scaled, y_train_resampled)\n",
    "\n",
    "\n",
    "# Getting best parameters\n",
    "best_params = grid_search.best_params_\n",
    "print(\"Best Parameters:\", best_params)"
   ]
  },
  {
   "cell_type": "code",
   "execution_count": 16,
   "id": "42cf1f00",
   "metadata": {},
   "outputs": [
    {
     "name": "stdout",
     "output_type": "stream",
     "text": [
      "\n",
      "Optimized KNN Performance:\n",
      "Accuracy: 0.8984\n",
      "Precision: 0.0800\n",
      "Recall: 0.1600\n",
      "F1-score: 0.1067\n",
      "AUC-ROC: 0.5438\n"
     ]
    }
   ],
   "source": [
    "# Training KNN model with best parameters\n",
    "best_knn_model = KNeighborsClassifier(**best_params)\n",
    "best_knn_model.fit(X_train_scaled, y_train_resampled)\n",
    "\n",
    "# Predictions\n",
    "y_pred = best_knn_model.predict(X_test_scaled)\n",
    "\n",
    "# Model Evaluation\n",
    "evaluate_model(y_test, y_pred, \"Optimized KNN\")"
   ]
  },
  {
   "cell_type": "code",
   "execution_count": 47,
   "id": "5a6c1fdc",
   "metadata": {},
   "outputs": [
    {
     "data": {
      "image/png": "[encoded data removed]",
      "text/plain": [
       "<Figure size 576x432 with 1 Axes>"
      ]
     },
     "metadata": {
      "needs_background": "light"
     },
     "output_type": "display_data"
    }
   ],
   "source": [
    "# Confusion matrix of optimized KNN\n",
    "cm = confusion_matrix(y_test, y_pred, labels=labels)\n",
    "\n",
    "# Plot the heatmap\n",
    "plt.figure(figsize=(8, 6))\n",
    "sns.heatmap(cm, annot=True, fmt='d', cmap='Blues', cbar=False, xticklabels=['No stroke', 'stroke'], \n",
    "            yticklabels=['No stroke', 'stroke'], square=True, vmin=0, vmax=np.max(cm)) \n",
    "plt.title('Confusion Matrix for Optimized KNN Model')\n",
    "plt.ylabel('Actual')\n",
    "plt.xlabel('Predicted')\n",
    "plt.show()"
   ]
  },
  {
   "cell_type": "markdown",
   "id": "aedaeb34",
   "metadata": {},
   "source": [
    "### Applying SVM"
   ]
  },
  {
   "cell_type": "code",
   "execution_count": 24,
   "id": "acd86973",
   "metadata": {},
   "outputs": [
    {
     "data": {
      "text/plain": [
       "SVC(probability=True, random_state=42)"
      ]
     },
     "execution_count": 24,
     "metadata": {},
     "output_type": "execute_result"
    }
   ],
   "source": [
    "# Basic SVM model\n",
    "svm_model = SVC(kernel='rbf', random_state=42, probability=True) \n",
    "svm_model.fit(X_train_scaled, y_train_resampled)"
   ]
  },
  {
   "cell_type": "code",
   "execution_count": 25,
   "id": "07c512a0",
   "metadata": {},
   "outputs": [
    {
     "name": "stdout",
     "output_type": "stream",
     "text": [
      "\n",
      "Support Vector Machine (SVM) Performance:\n",
      "Accuracy: 0.8400\n",
      "Precision: 0.0829\n",
      "Recall: 0.3200\n",
      "F1-score: 0.1317\n",
      "AUC-ROC: 0.5903\n"
     ]
    }
   ],
   "source": [
    "# Model Evaluation\n",
    "evaluate_model(y_test, y_pred, \"Support Vector Machine (SVM)\")"
   ]
  },
  {
   "cell_type": "code",
   "execution_count": 46,
   "id": "13be3c28",
   "metadata": {},
   "outputs": [
    {
     "data": {
      "image/png": "[encoded data removed]",
      "text/plain": [
       "<Figure size 576x432 with 1 Axes>"
      ]
     },
     "metadata": {
      "needs_background": "light"
     },
     "output_type": "display_data"
    }
   ],
   "source": [
    "# Confusion matrix of SVM\n",
    "cm = confusion_matrix(y_test, y_pred, labels=labels)\n",
    "\n",
    "# Plot the heatmap\n",
    "plt.figure(figsize=(8, 6))\n",
    "sns.heatmap(cm, annot=True, fmt='d', cmap='Blues', cbar=False, xticklabels=['No stroke', 'stroke'], \n",
    "            yticklabels=['No stroke', 'stroke'], square=True, vmin=0, vmax=np.max(cm)) \n",
    "plt.title('Confusion Matrix for Support Vector Machine (SVM)')\n",
    "plt.ylabel('Actual')\n",
    "plt.xlabel('Predicted')\n",
    "plt.show()"
   ]
  },
  {
   "cell_type": "markdown",
   "id": "643656c5",
   "metadata": {},
   "source": [
    "### Hyperparameter Tuning in SVM"
   ]
  },
  {
   "cell_type": "code",
   "execution_count": 27,
   "id": "204e79df",
   "metadata": {},
   "outputs": [
    {
     "name": "stdout",
     "output_type": "stream",
     "text": [
      "Best Parameters for SVM: {'C': 100, 'gamma': 'scale', 'kernel': 'rbf'}\n"
     ]
    }
   ],
   "source": [
    "# Defining hyperparameter grid for SVM\n",
    "param_grid = {\n",
    "    'C': [0.1, 1, 10, 100],\n",
    "    'kernel': ['linear', 'rbf'],\n",
    "    'gamma': ['scale', 0.01, 0.1]\n",
    "}\n",
    "\n",
    "# Performing Grid Search\n",
    "grid_search = GridSearchCV(svm_model, param_grid, cv=5, scoring='accuracy', n_jobs=-1)\n",
    "grid_search.fit(X_train_scaled, y_train_resampled)\n",
    "\n",
    "# Getting best parameters\n",
    "best_params = grid_search.best_params_\n",
    "print(\"Best Parameters for SVM:\", best_params)"
   ]
  },
  {
   "cell_type": "code",
   "execution_count": 28,
   "id": "83a14e1d",
   "metadata": {},
   "outputs": [
    {
     "name": "stdout",
     "output_type": "stream",
     "text": [
      "\n",
      "Optimized SVM Performance:\n",
      "Accuracy: 0.8400\n",
      "Precision: 0.0829\n",
      "Recall: 0.3200\n",
      "F1-score: 0.1317\n",
      "AUC-ROC: 0.5903\n"
     ]
    }
   ],
   "source": [
    "# Training SVM model with best parameters\n",
    "best_svm_model =SVC(**best_params, random_state=42, probability=True)\n",
    "best_svm_model.fit(X_train_scaled, y_train_resampled)\n",
    "\n",
    "# Predictions\n",
    "y_pred = best_svm_model.predict(X_test_scaled)\n",
    "\n",
    "# Model Evaluation\n",
    "evaluate_model(y_test, y_pred, \"Optimized SVM\")"
   ]
  },
  {
   "cell_type": "code",
   "execution_count": 45,
   "id": "414c96e4",
   "metadata": {},
   "outputs": [
    {
     "data": {
      "image/png": "[encoded data removed]",
      "text/plain": [
       "<Figure size 576x432 with 1 Axes>"
      ]
     },
     "metadata": {
      "needs_background": "light"
     },
     "output_type": "display_data"
    }
   ],
   "source": [
    "# Confusion matrix of optimized SVM\n",
    "cm = confusion_matrix(y_test, y_pred, labels=labels)\n",
    "\n",
    "# Plot the heatmap\n",
    "plt.figure(figsize=(8, 6))\n",
    "sns.heatmap(cm, annot=True, fmt='d', cmap='Blues', cbar=False, xticklabels=['No stroke', 'stroke'], \n",
    "            yticklabels=['No stroke', 'stroke'], square=True, vmin=0, vmax=np.max(cm)) \n",
    "plt.title('Confusion Matrix for Optimized SVM Model')\n",
    "plt.ylabel('Actual')\n",
    "plt.xlabel('Predicted')\n",
    "plt.show()"
   ]
  },
  {
   "cell_type": "markdown",
   "id": "4c6bc9f4",
   "metadata": {},
   "source": [
    "### Applying Gradient Boosting Algorithm"
   ]
  },
  {
   "cell_type": "code",
   "execution_count": 32,
   "id": "4ec71738",
   "metadata": {},
   "outputs": [],
   "source": [
    "# Train a basic Gradient Boosting model\n",
    "gb_model = GradientBoostingClassifier(random_state=42,n_estimators=100)\n",
    "\n",
    "# Fit the model\n",
    "gb_model.fit(X_train_scaled, y_train_resampled)\n",
    "\n",
    "# Make predictions\n",
    "y_pred = gb_model.predict(X_test_scaled)\n",
    "y_prob = gb_model.predict_proba(X_test_scaled)[:, 1]"
   ]
  },
  {
   "cell_type": "code",
   "execution_count": 33,
   "id": "03bfb565",
   "metadata": {},
   "outputs": [
    {
     "name": "stdout",
     "output_type": "stream",
     "text": [
      "\n",
      "Gradient Boosting Performance:\n",
      "Accuracy: 0.8704\n",
      "Precision: 0.1242\n",
      "Recall: 0.4000\n",
      "F1-score: 0.1896\n",
      "AUC-ROC: 0.6444\n"
     ]
    }
   ],
   "source": [
    "# Model Evaluation\n",
    "evaluate_model(y_test, y_pred, \"Gradient Boosting\")"
   ]
  },
  {
   "cell_type": "code",
   "execution_count": 44,
   "id": "bef22b19",
   "metadata": {},
   "outputs": [
    {
     "data": {
      "image/png": "[encoded data removed]",
      "text/plain": [
       "<Figure size 576x432 with 1 Axes>"
      ]
     },
     "metadata": {
      "needs_background": "light"
     },
     "output_type": "display_data"
    }
   ],
   "source": [
    "# Confusion matrix of Gradient Boosting\n",
    "cm = confusion_matrix(y_test, y_pred, labels=labels)\n",
    "\n",
    "# Plot the heatmap\n",
    "plt.figure(figsize=(8, 6))\n",
    "sns.heatmap(cm, annot=True, fmt='d', cmap='Blues', cbar=False, xticklabels=['No stroke', 'stroke'], \n",
    "            yticklabels=['No stroke', 'stroke'], square=True, vmin=0, vmax=np.max(cm))  \n",
    "plt.title('Confusion Matrix for Gradient Boosting')\n",
    "plt.ylabel('Actual')\n",
    "plt.xlabel('Predicted')\n",
    "plt.show()"
   ]
  },
  {
   "cell_type": "code",
   "execution_count": 49,
   "id": "201f6241",
   "metadata": {},
   "outputs": [
    {
     "name": "stdout",
     "output_type": "stream",
     "text": [
      "Best Parameters for SVM: {'learning_rate': 0.2, 'max_depth': 7, 'max_features': None, 'n_estimators': 200, 'subsample': 1.0}\n"
     ]
    }
   ],
   "source": [
    "# Defining parameter grid for Gradient Boosting\n",
    "param_grid = {\n",
    "    'learning_rate': [0.01, 0.1, 0.2],\n",
    "    'max_depth': [3, 5, 7],\n",
    "    'n_estimators': [50, 100, 200],\n",
    "    'subsample': [0.8, 1.0],\n",
    "    'max_features': ['sqrt', 'log2', None]\n",
    "}\n",
    "\n",
    "# Performing Grid Search\n",
    "grid_search = GridSearchCV(\n",
    "    GradientBoostingClassifier(random_state=42),\n",
    "    param_grid,\n",
    "    cv=5,\n",
    "    scoring='roc_auc',\n",
    "    n_jobs=-1\n",
    ")\n",
    "grid_search.fit(X_train_scaled, y_train_resampled)\n",
    "\n",
    "# Getting best parameters\n",
    "best_params = grid_search.best_params_\n",
    "print(\"Best Parameters for SVM:\", best_params)"
   ]
  },
  {
   "cell_type": "code",
   "execution_count": 52,
   "id": "a34d401e",
   "metadata": {},
   "outputs": [
    {
     "name": "stdout",
     "output_type": "stream",
     "text": [
      "\n",
      "Optimized Gradient Boosting Performance:\n",
      "Accuracy: 0.9416\n",
      "Precision: 0.0645\n",
      "Recall: 0.0400\n",
      "F1-score: 0.0494\n",
      "AUC-ROC: 0.5086\n"
     ]
    }
   ],
   "source": [
    "# Get the best model\n",
    "best_gb = grid_search.best_estimator_\n",
    "\n",
    "# Make predictions with the tuned model\n",
    "y_pred_tuned = best_gb.predict(X_test_scaled)\n",
    "y_prob_tuned = best_gb.predict_proba(X_test_scaled)[:, 1]\n",
    "\n",
    "# Model Evaluation\n",
    "evaluate_model(y_test, y_pred_tuned, \"Optimized Gradient Boosting\")"
   ]
  },
  {
   "cell_type": "code",
   "execution_count": 53,
   "id": "76e7d817",
   "metadata": {},
   "outputs": [
    {
     "data": {
      "image/png": "[encoded data removed]",
      "text/plain": [
       "<Figure size 576x432 with 1 Axes>"
      ]
     },
     "metadata": {
      "needs_background": "light"
     },
     "output_type": "display_data"
    }
   ],
   "source": [
    "# Confusion matrix of Gradient Boosting\n",
    "cm = confusion_matrix(y_test, y_pred_tuned, labels=labels)\n",
    "\n",
    "# Plot the heatmap\n",
    "plt.figure(figsize=(8, 6))\n",
    "sns.heatmap(cm, annot=True, fmt='d', cmap='Blues', cbar=False, xticklabels=['No stroke', 'stroke'], \n",
    "            yticklabels=['No stroke', 'stroke'], square=True, vmin=0, vmax=np.max(cm))  \n",
    "plt.title('Confusion Matrix for Gradient Boosting')\n",
    "plt.ylabel('Actual')\n",
    "plt.xlabel('Predicted')\n",
    "plt.show()"
   ]
  }
 ],
 "metadata": {
  "kernelspec": {
   "display_name": "Python 3 (ipykernel)",
   "language": "python",
   "name": "python3"
  },
  "language_info": {
   "codemirror_mode": {
    "name": "ipython",
    "version": 3
   },
   "file_extension": ".py",
   "mimetype": "text/x-python",
   "name": "python",
   "nbconvert_exporter": "python",
   "pygments_lexer": "ipython3",
   "version": "3.9.12"
  }
 },
 "nbformat": 4,
 "nbformat_minor": 5
}
